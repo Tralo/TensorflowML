{
 "cells": [
  {
   "cell_type": "code",
   "execution_count": 1,
   "metadata": {
    "collapsed": true,
    "pycharm": {
     "is_executing": false
    }
   },
   "outputs": [],
   "source": [
    "import os\n",
    "import re\n",
    "import string\n",
    "import requests\n",
    "import numpy as np\n",
    "import collections\n",
    "import random\n",
    "import pickle\n",
    "import matplotlib.pyplot as plt\n",
    "import tensorflow as tf\n",
    "from tensorflow.python.framework import ops\n",
    "ops.reset_default_graph()\n",
    "sess = tf.Session()\n"
   ]
  },
  {
   "cell_type": "code",
   "execution_count": 4,
   "outputs": [],
   "source": [
    "# Set RNN Parameters\n",
    "min_word_freq = 5 # Trim the less frequent words off\n",
    "rnn_size = 128 # RNN Model size\n",
    "embedding_size = 100 # Word embedding size\n",
    "epochs = 10 # Number of epochs to cycle through data\n",
    "batch_size = 100 # Train on this many examples at once\n",
    "learning_rate = 0.001 # Learning rate\n",
    "training_seq_len = 50 # how long of a word group to consider \n",
    "embedding_size = rnn_size\n",
    "save_every = 500 # How often to save model checkpoints\n",
    "eval_every = 50 # How often to evaluate the test sentences\n",
    "prime_texts = ['thou art more', 'to be or not to', 'wherefore art thou']\n",
    "\n",
    "# Download/store Shakespeare data\n",
    "data_dir = 'temp'\n",
    "data_file = 'shakespeare.txt'\n",
    "model_path = 'shakespeare_model'\n",
    "full_model_dir = os.path.join(data_dir, model_path)\n",
    "\n",
    "# Declare punctuation to remove, everything except hyphens and apostrophes\n",
    "punctuation = string.punctuation\n",
    "punctuation = ''.join([x for x in punctuation if x not in ['-', \"'\"]])\n",
    "\n",
    "# Make Model Directory\n",
    "if not os.path.exists(full_model_dir):\n",
    "    os.makedirs(full_model_dir)\n",
    "\n",
    "# Make data directory\n",
    "if not os.path.exists(data_dir):\n",
    "    os.makedirs(data_dir)\n"
   ],
   "metadata": {
    "collapsed": false,
    "pycharm": {
     "name": "#%%\n",
     "is_executing": false
    }
   }
  },
  {
   "cell_type": "code",
   "execution_count": 7,
   "outputs": [
    {
     "name": "stdout",
     "text": [
      "Loading Shakespeare Data\nNot found, downloading Shakespeare texts from www.gutenberg.org\n",
      "Cleaning Text\n",
      "Done loading/cleaning.\n"
     ],
     "output_type": "stream"
    }
   ],
   "source": [
    "print('Loading Shakespeare Data')\n",
    "# Check if file is downloaded.\n",
    "if not os.path.isfile(os.path.join(data_dir, data_file)):\n",
    "    print('Not found, downloading Shakespeare texts from www.gutenberg.org')\n",
    "    shakespeare_url = 'http://www.gutenberg.org/cache/epub/100/pg100.txt'\n",
    "    # Get Shakespeare text\n",
    "    response = requests.get(shakespeare_url)\n",
    "    shakespeare_file = response.content\n",
    "    # Decode binary into string\n",
    "    s_text = shakespeare_file.decode('utf-8')\n",
    "    # Drop first few descriptive paragraphs.\n",
    "    s_text = s_text[7675:]\n",
    "    # Remove newlines\n",
    "    s_text = s_text.replace('\\r\\n', '')\n",
    "    s_text = s_text.replace('\\n', '')\n",
    "    \n",
    "    # Write to file\n",
    "    with open(os.path.join(data_dir, data_file), 'w') as out_conn:\n",
    "        out_conn.write(s_text)\n",
    "else:\n",
    "    # If file has been saved, load from that file\n",
    "    with open(os.path.join(data_dir, data_file), 'r') as file_conn:\n",
    "        s_text = file_conn.read().replace('\\n', '')\n",
    "\n",
    "# Clean text\n",
    "print('Cleaning Text')\n",
    "s_text = re.sub(r'[{}]'.format(punctuation), ' ', s_text)\n",
    "s_text = re.sub('\\s+', ' ', s_text ).strip().lower()\n",
    "print('Done loading/cleaning.')\n"
   ],
   "metadata": {
    "collapsed": false,
    "pycharm": {
     "name": "#%%\n",
     "is_executing": false
    }
   }
  },
  {
   "cell_type": "code",
   "execution_count": 8,
   "outputs": [],
   "source": [
    "# Build word vocabulary function\n",
    "def build_vocab(text, min_word_freq):\n",
    "    word_counts = collections.Counter(text.split(' '))\n",
    "    # limit word counts to those more frequent than cutoff\n",
    "    word_counts = {key:val for key, val in word_counts.items() if val>min_word_freq}\n",
    "    # Create vocab --> index mapping\n",
    "    words = word_counts.keys()\n",
    "    vocab_to_ix_dict = {key:(ix+1) for ix, key in enumerate(words)}\n",
    "    # Add unknown key --> 0 index\n",
    "    vocab_to_ix_dict['unknown']=0\n",
    "    # Create index --> vocab mapping\n",
    "    ix_to_vocab_dict = {val:key for key,val in vocab_to_ix_dict.items()}\n",
    "    \n",
    "    return(ix_to_vocab_dict, vocab_to_ix_dict)"
   ],
   "metadata": {
    "collapsed": false,
    "pycharm": {
     "name": "#%%\n",
     "is_executing": false
    }
   }
  },
  {
   "cell_type": "code",
   "execution_count": 9,
   "outputs": [
    {
     "name": "stdout",
     "text": [
      "Building Shakespeare Vocab\nVocabulary Length = 8009\n"
     ],
     "output_type": "stream"
    }
   ],
   "source": [
    "# Build Shakespeare vocabulary\n",
    "print('Building Shakespeare Vocab')\n",
    "ix2vocab, vocab2ix = build_vocab(s_text, min_word_freq)\n",
    "vocab_size = len(ix2vocab) + 1\n",
    "print('Vocabulary Length = {}'.format(vocab_size))\n",
    "# Sanity Check\n",
    "assert(len(ix2vocab) == len(vocab2ix))\n",
    "\n",
    "# Convert text to word vectors\n",
    "s_text_words = s_text.split(' ')\n",
    "s_text_ix = []\n",
    "for ix, x in enumerate(s_text_words):\n",
    "    try:\n",
    "        s_text_ix.append(vocab2ix[x])\n",
    "    except:\n",
    "        s_text_ix.append(0)\n",
    "s_text_ix = np.array(s_text_ix)\n",
    "\n"
   ],
   "metadata": {
    "collapsed": false,
    "pycharm": {
     "name": "#%%\n",
     "is_executing": false
    }
   }
  },
  {
   "cell_type": "code",
   "execution_count": 10,
   "outputs": [],
   "source": [
    "# Define LSTM RNN Model\n",
    "class LSTM_Model():\n",
    "    def __init__(self, embedding_size, rnn_size, batch_size, learning_rate,\n",
    "                 training_seq_len, vocab_size, infer_sample=False):\n",
    "        self.embedding_size = embedding_size\n",
    "        self.rnn_size = rnn_size\n",
    "        self.vocab_size = vocab_size\n",
    "        self.infer_sample = infer_sample\n",
    "        self.learning_rate = learning_rate\n",
    "        \n",
    "        if infer_sample:\n",
    "            self.batch_size = 1\n",
    "            self.training_seq_len = 1\n",
    "        else:\n",
    "            self.batch_size = batch_size\n",
    "            self.training_seq_len = training_seq_len\n",
    "        \n",
    "        self.lstm_cell = tf.contrib.rnn.BasicLSTMCell(self.rnn_size)\n",
    "        self.initial_state = self.lstm_cell.zero_state(self.batch_size, tf.float32)\n",
    "        \n",
    "        self.x_data = tf.placeholder(tf.int32, [self.batch_size, self.training_seq_len])\n",
    "        self.y_output = tf.placeholder(tf.int32, [self.batch_size, self.training_seq_len])\n",
    "        \n",
    "        with tf.variable_scope('lstm_vars'):\n",
    "            # Softmax Output Weights\n",
    "            W = tf.get_variable('W', [self.rnn_size, self.vocab_size], tf.float32, tf.random_normal_initializer())\n",
    "            b = tf.get_variable('b', [self.vocab_size], tf.float32, tf.constant_initializer(0.0))\n",
    "        \n",
    "            # Define Embedding\n",
    "            embedding_mat = tf.get_variable('embedding_mat', [self.vocab_size, self.embedding_size],\n",
    "                                            tf.float32, tf.random_normal_initializer())\n",
    "                                            \n",
    "            embedding_output = tf.nn.embedding_lookup(embedding_mat, self.x_data)\n",
    "            rnn_inputs = tf.split(axis=1, num_or_size_splits=self.training_seq_len, value=embedding_output)\n",
    "            rnn_inputs_trimmed = [tf.squeeze(x, [1]) for x in rnn_inputs]\n",
    "        \n",
    "        # If we are inferring (generating text), we add a 'loop' function\n",
    "        # Define how to get the i+1 th input from the i th output\n",
    "        def inferred_loop(prev, count):\n",
    "            # Apply hidden layer\n",
    "            prev_transformed = tf.matmul(prev, W) + b\n",
    "            # Get the index of the output (also don't run the gradient)\n",
    "            prev_symbol = tf.stop_gradient(tf.argmax(prev_transformed, 1))\n",
    "            # Get embedded vector\n",
    "            output = tf.nn.embedding_lookup(embedding_mat, prev_symbol)\n",
    "            return(output)\n",
    "        \n",
    "        decoder = tf.contrib.legacy_seq2seq.rnn_decoder\n",
    "        outputs, last_state = decoder(rnn_inputs_trimmed,\n",
    "                                      self.initial_state,\n",
    "                                      self.lstm_cell,\n",
    "                                      loop_function=inferred_loop if infer_sample else None)\n",
    "        # Non inferred outputs\n",
    "        output = tf.reshape(tf.concat(axis=1, values=outputs), [-1, self.rnn_size])\n",
    "        # Logits and output\n",
    "        self.logit_output = tf.matmul(output, W) + b\n",
    "        self.model_output = tf.nn.softmax(self.logit_output)\n",
    "        \n",
    "        loss_fun = tf.contrib.legacy_seq2seq.sequence_loss_by_example\n",
    "        loss = loss_fun([self.logit_output],[tf.reshape(self.y_output, [-1])],\n",
    "                [tf.ones([self.batch_size * self.training_seq_len])],\n",
    "                self.vocab_size)\n",
    "        self.cost = tf.reduce_sum(loss) / (self.batch_size * self.training_seq_len)\n",
    "        self.final_state = last_state\n",
    "        gradients, _ = tf.clip_by_global_norm(tf.gradients(self.cost, tf.trainable_variables()), 4.5)\n",
    "        optimizer = tf.train.AdamOptimizer(self.learning_rate)\n",
    "        self.train_op = optimizer.apply_gradients(zip(gradients, tf.trainable_variables()))\n",
    "        \n",
    "    def sample(self, sess, words=ix2vocab, vocab=vocab2ix, num=10, prime_text='thou art'):\n",
    "        state = sess.run(self.lstm_cell.zero_state(1, tf.float32))\n",
    "        word_list = prime_text.split()\n",
    "        for word in word_list[:-1]:\n",
    "            x = np.zeros((1, 1))\n",
    "            x[0, 0] = vocab[word]\n",
    "            feed_dict = {self.x_data: x, self.initial_state:state}\n",
    "            [state] = sess.run([self.final_state], feed_dict=feed_dict)\n",
    "\n",
    "        out_sentence = prime_text\n",
    "        word = word_list[-1]\n",
    "        for n in range(num):\n",
    "            x = np.zeros((1, 1))\n",
    "            x[0, 0] = vocab[word]\n",
    "            feed_dict = {self.x_data: x, self.initial_state:state}\n",
    "            [model_output, state] = sess.run([self.model_output, self.final_state], feed_dict=feed_dict)\n",
    "            sample = np.argmax(model_output[0])\n",
    "            if sample == 0:\n",
    "                break\n",
    "            word = words[sample]\n",
    "            out_sentence = out_sentence + ' ' + word\n",
    "        return(out_sentence)\n",
    "\n"
   ],
   "metadata": {
    "collapsed": false,
    "pycharm": {
     "name": "#%%\n",
     "is_executing": false
    }
   }
  },
  {
   "cell_type": "code",
   "execution_count": 11,
   "outputs": [
    {
     "name": "stdout",
     "text": [
      "\nWARNING: The TensorFlow contrib module will not be included in TensorFlow 2.0.\nFor more information, please see:\n  * https://github.com/tensorflow/community/blob/master/rfcs/20180907-contrib-sunset.md\n  * https://github.com/tensorflow/addons\nIf you depend on functionality not listed there, please file an issue.\n\nWARNING:tensorflow:From <ipython-input-10-37dc152199aa>:18: BasicLSTMCell.__init__ (from tensorflow.python.ops.rnn_cell_impl) is deprecated and will be removed in a future version.\nInstructions for updating:\nThis class is equivalent as tf.keras.layers.LSTMCell, and will be replaced by that in Tensorflow 2.0.\n",
      "WARNING:tensorflow:From /usr/local/lib/python3.6/dist-packages/tensorflow/python/framework/op_def_library.py:263: colocate_with (from tensorflow.python.framework.ops) is deprecated and will be removed in a future version.\nInstructions for updating:\nColocations handled automatically by placer.\n",
      "WARNING:tensorflow:From /usr/local/lib/python3.6/dist-packages/tensorflow/python/ops/array_grad.py:425: to_int32 (from tensorflow.python.ops.math_ops) is deprecated and will be removed in a future version.\nInstructions for updating:\nUse tf.cast instead.\n"
     ],
     "output_type": "stream"
    }
   ],
   "source": [
    "# Define LSTM Model\n",
    "lstm_model = LSTM_Model(embedding_size, rnn_size, batch_size, learning_rate,\n",
    "                        training_seq_len, vocab_size)\n",
    "\n",
    "# Tell TensorFlow we are reusing the scope for the testing\n",
    "with tf.variable_scope(tf.get_variable_scope(), reuse=True):\n",
    "    test_lstm_model = LSTM_Model(embedding_size, rnn_size, batch_size, learning_rate,\n",
    "                                 training_seq_len, vocab_size, infer_sample=True)\n",
    "\n"
   ],
   "metadata": {
    "collapsed": false,
    "pycharm": {
     "name": "#%%\n",
     "is_executing": false
    }
   }
  },
  {
   "cell_type": "code",
   "execution_count": 12,
   "outputs": [],
   "source": [
    "# Create model saver\n",
    "saver = tf.train.Saver(tf.global_variables())\n",
    "\n"
   ],
   "metadata": {
    "collapsed": false,
    "pycharm": {
     "name": "#%%\n",
     "is_executing": false
    }
   }
  },
  {
   "cell_type": "code",
   "execution_count": 13,
   "outputs": [],
   "source": [
    "# Create batches for each epoch\n",
    "num_batches = int(len(s_text_ix)/(batch_size * training_seq_len)) + 1\n",
    "# Split up text indices into subarrays, of equal size\n",
    "batches = np.array_split(s_text_ix, num_batches)\n",
    "# Reshape each split into [batch_size, training_seq_len]\n",
    "batches = [np.resize(x, [batch_size, training_seq_len]) for x in batches]\n",
    "\n"
   ],
   "metadata": {
    "collapsed": false,
    "pycharm": {
     "name": "#%%\n",
     "is_executing": false
    }
   }
  },
  {
   "cell_type": "code",
   "execution_count": 14,
   "outputs": [],
   "source": [
    "# Initialize all variables\n",
    "init = tf.global_variables_initializer()\n",
    "sess.run(init)\n",
    "\n"
   ],
   "metadata": {
    "collapsed": false,
    "pycharm": {
     "name": "#%%\n",
     "is_executing": false
    }
   }
  },
  {
   "cell_type": "code",
   "execution_count": 15,
   "outputs": [
    {
     "name": "stdout",
     "text": [
      "Starting Epoch #1 of 10.\n",
      "Iteration: 10, Epoch: 1, Batch: 10 out of 182, Loss: 9.95\n",
      "Iteration: 20, Epoch: 1, Batch: 20 out of 182, Loss: 9.17\n",
      "Iteration: 30, Epoch: 1, Batch: 30 out of 182, Loss: 8.54\n",
      "Iteration: 40, Epoch: 1, Batch: 40 out of 182, Loss: 8.19\n",
      "Iteration: 50, Epoch: 1, Batch: 50 out of 182, Loss: 8.05\nthou art more defence in the\nto be or not to\n",
      "wherefore art thou art mine gon mine aguecheek stale trumpets aguecheek taint taint\n",
      "Iteration: 60, Epoch: 1, Batch: 60 out of 182, Loss: 7.77\n",
      "Iteration: 70, Epoch: 1, Batch: 70 out of 182, Loss: 7.71\n",
      "Iteration: 80, Epoch: 1, Batch: 80 out of 182, Loss: 7.42\n",
      "Iteration: 90, Epoch: 1, Batch: 90 out of 182, Loss: 7.34\n",
      "Iteration: 100, Epoch: 1, Batch: 100 out of 182, Loss: 7.23\nthou art more than in\nto be or not to the\n",
      "wherefore art thou art a\n",
      "Iteration: 110, Epoch: 1, Batch: 110 out of 182, Loss: 7.01\n",
      "Iteration: 120, Epoch: 1, Batch: 120 out of 182, Loss: 6.93\n",
      "Iteration: 130, Epoch: 1, Batch: 130 out of 182, Loss: 6.65\n",
      "Iteration: 140, Epoch: 1, Batch: 140 out of 182, Loss: 6.88\n",
      "Iteration: 150, Epoch: 1, Batch: 150 out of 182, Loss: 6.74\nthou art more than thou\nto be or not to the\n",
      "wherefore art thou hast thou art thou art thou\n",
      "Iteration: 160, Epoch: 1, Batch: 160 out of 182, Loss: 6.78\n",
      "Iteration: 170, Epoch: 1, Batch: 170 out of 182, Loss: 6.61\n",
      "Iteration: 180, Epoch: 1, Batch: 180 out of 182, Loss: 6.65\n",
      "Starting Epoch #2 of 10.\n",
      "Iteration: 190, Epoch: 2, Batch: 9 out of 182, Loss: 6.62\n",
      "Iteration: 200, Epoch: 2, Batch: 19 out of 182, Loss: 6.50\nthou art more than thou art thou art thou\nto be or not to be\n",
      "wherefore art thou art peter not in the\n",
      "Iteration: 210, Epoch: 2, Batch: 29 out of 182, Loss: 6.54\n",
      "Iteration: 220, Epoch: 2, Batch: 39 out of 182, Loss: 6.23\n",
      "Iteration: 230, Epoch: 2, Batch: 49 out of 182, Loss: 6.54\n",
      "Iteration: 240, Epoch: 2, Batch: 59 out of 182, Loss: 6.42\n",
      "Iteration: 250, Epoch: 2, Batch: 69 out of 182, Loss: 6.46\nthou art more than in a\nto be or not to be\n",
      "wherefore art thou art peter not in the\n",
      "Iteration: 260, Epoch: 2, Batch: 79 out of 182, Loss: 6.33\n",
      "Iteration: 270, Epoch: 2, Batch: 89 out of 182, Loss: 6.18\n",
      "Iteration: 280, Epoch: 2, Batch: 99 out of 182, Loss: 6.44\n",
      "Iteration: 290, Epoch: 2, Batch: 109 out of 182, Loss: 6.35\n",
      "Iteration: 300, Epoch: 2, Batch: 119 out of 182, Loss: 6.36\nthou art more than in the\n",
      "to be or not to be\nwherefore art thou rather art peter in the\n",
      "Iteration: 310, Epoch: 2, Batch: 129 out of 182, Loss: 6.24\n",
      "Iteration: 320, Epoch: 2, Batch: 139 out of 182, Loss: 6.36\n",
      "Iteration: 330, Epoch: 2, Batch: 149 out of 182, Loss: 6.31\n",
      "Iteration: 340, Epoch: 2, Batch: 159 out of 182, Loss: 6.08\n",
      "Iteration: 350, Epoch: 2, Batch: 169 out of 182, Loss: 6.19\nthou art more than than to be\nto be or not to be\n",
      "wherefore art thou rather smock wilt thou art thou art thou art thou\n",
      "Iteration: 360, Epoch: 2, Batch: 179 out of 182, Loss: 6.27\n",
      "Starting Epoch #3 of 10.\n",
      "Iteration: 370, Epoch: 3, Batch: 8 out of 182, Loss: 6.52\n",
      "Iteration: 380, Epoch: 3, Batch: 18 out of 182, Loss: 6.55\n",
      "Iteration: 390, Epoch: 3, Batch: 28 out of 182, Loss: 6.54\n",
      "Iteration: 400, Epoch: 3, Batch: 38 out of 182, Loss: 6.65\nthou art more than than thou art thou art thou art thou art\nto be or not to be\n",
      "wherefore art thou rather smock wilt thou art thou art thou art thou\n",
      "Iteration: 410, Epoch: 3, Batch: 48 out of 182, Loss: 6.31\n",
      "Iteration: 420, Epoch: 3, Batch: 58 out of 182, Loss: 6.28\n",
      "Iteration: 430, Epoch: 3, Batch: 68 out of 182, Loss: 6.40\n",
      "Iteration: 440, Epoch: 3, Batch: 78 out of 182, Loss: 6.30\n",
      "Iteration: 450, Epoch: 3, Batch: 88 out of 182, Loss: 6.38\nthou art more than than to be\nto be or not to be\n",
      "wherefore art thou rather middle shameless middle posterity teaches heads blanch which\n",
      "Iteration: 460, Epoch: 3, Batch: 98 out of 182, Loss: 6.09\n",
      "Iteration: 470, Epoch: 3, Batch: 108 out of 182, Loss: 6.00\n",
      "Iteration: 480, Epoch: 3, Batch: 118 out of 182, Loss: 6.26\n",
      "Iteration: 490, Epoch: 3, Batch: 128 out of 182, Loss: 6.19\n",
      "Iteration: 500, Epoch: 3, Batch: 138 out of 182, Loss: 5.98\n",
      "Model Saved To: temp/shakespeare_model/model\nthou art more than than to be\nto be or not to be\n",
      "wherefore art thou rather smock wilt thou art thou art thou art thou\n",
      "Iteration: 510, Epoch: 3, Batch: 148 out of 182, Loss: 6.20\n",
      "Iteration: 520, Epoch: 3, Batch: 158 out of 182, Loss: 6.28\n",
      "Iteration: 530, Epoch: 3, Batch: 168 out of 182, Loss: 6.03\n",
      "Iteration: 540, Epoch: 3, Batch: 178 out of 182, Loss: 6.03\n",
      "Starting Epoch #4 of 10.\n",
      "Iteration: 550, Epoch: 4, Batch: 7 out of 182, Loss: 6.19\nthou art more than than to be\nto be or not to be\n",
      "wherefore art thou rather v thee for thy\n",
      "Iteration: 560, Epoch: 4, Batch: 17 out of 182, Loss: 6.28\n",
      "Iteration: 570, Epoch: 4, Batch: 27 out of 182, Loss: 6.25\n",
      "Iteration: 580, Epoch: 4, Batch: 37 out of 182, Loss: 6.07\n",
      "Iteration: 590, Epoch: 4, Batch: 47 out of 182, Loss: 6.09\n",
      "Iteration: 600, Epoch: 4, Batch: 57 out of 182, Loss: 5.91\nthou art more than than to be\nto be or not to be\n",
      "wherefore art thou rather middle come come in the\n",
      "Iteration: 610, Epoch: 4, Batch: 67 out of 182, Loss: 6.30\n",
      "Iteration: 620, Epoch: 4, Batch: 77 out of 182, Loss: 6.24\n",
      "Iteration: 630, Epoch: 4, Batch: 87 out of 182, Loss: 6.13\n",
      "Iteration: 640, Epoch: 4, Batch: 97 out of 182, Loss: 6.28\n",
      "Iteration: 650, Epoch: 4, Batch: 107 out of 182, Loss: 6.31\nthou art more than than to be\nto be or not to the\n",
      "wherefore art thou rather middle come come to be\n",
      "Iteration: 660, Epoch: 4, Batch: 117 out of 182, Loss: 6.18\n",
      "Iteration: 670, Epoch: 4, Batch: 127 out of 182, Loss: 6.06\n",
      "Iteration: 680, Epoch: 4, Batch: 137 out of 182, Loss: 6.17\n",
      "Iteration: 690, Epoch: 4, Batch: 147 out of 182, Loss: 5.86\n",
      "Iteration: 700, Epoch: 4, Batch: 157 out of 182, Loss: 5.93\nthou art more than than a\nto be or not to be\n",
      "wherefore art thou dost dost think think think so not a\n",
      "Iteration: 710, Epoch: 4, Batch: 167 out of 182, Loss: 6.03\n",
      "Iteration: 720, Epoch: 4, Batch: 177 out of 182, Loss: 6.05\n",
      "Starting Epoch #5 of 10.\n",
      "Iteration: 730, Epoch: 5, Batch: 6 out of 182, Loss: 5.96\n",
      "Iteration: 740, Epoch: 5, Batch: 16 out of 182, Loss: 5.93\n",
      "Iteration: 750, Epoch: 5, Batch: 26 out of 182, Loss: 6.22\nthou art more than than a\n",
      "to be or not to be\nwherefore art thou rather didst thou art a\n",
      "Iteration: 760, Epoch: 5, Batch: 36 out of 182, Loss: 6.04\n",
      "Iteration: 770, Epoch: 5, Batch: 46 out of 182, Loss: 5.73\n",
      "Iteration: 780, Epoch: 5, Batch: 56 out of 182, Loss: 6.22\n",
      "Iteration: 790, Epoch: 5, Batch: 66 out of 182, Loss: 5.90\n",
      "Iteration: 800, Epoch: 5, Batch: 76 out of 182, Loss: 5.99\nthou art more than than to be\nto be or not to the\n",
      "wherefore art thou rather didst little than you are\n",
      "Iteration: 810, Epoch: 5, Batch: 86 out of 182, Loss: 6.10\n",
      "Iteration: 820, Epoch: 5, Batch: 96 out of 182, Loss: 5.66\n",
      "Iteration: 830, Epoch: 5, Batch: 106 out of 182, Loss: 6.17\n",
      "Iteration: 840, Epoch: 5, Batch: 116 out of 182, Loss: 5.83\n",
      "Iteration: 850, Epoch: 5, Batch: 126 out of 182, Loss: 6.07\nthou art more than than to be\nto be or not to the\n",
      "wherefore art thou rather didst didst thou art not a man that i\n",
      "Iteration: 860, Epoch: 5, Batch: 136 out of 182, Loss: 5.93\n",
      "Iteration: 870, Epoch: 5, Batch: 146 out of 182, Loss: 5.70\n",
      "Iteration: 880, Epoch: 5, Batch: 156 out of 182, Loss: 5.91\n",
      "Iteration: 890, Epoch: 5, Batch: 166 out of 182, Loss: 6.14\n",
      "Iteration: 900, Epoch: 5, Batch: 176 out of 182, Loss: 5.84\nthou art more than a\nto be or not to the\n",
      "wherefore art thou rather didst thou art a\n",
      "Starting Epoch #6 of 10.\n",
      "Iteration: 910, Epoch: 6, Batch: 5 out of 182, Loss: 5.62\n",
      "Iteration: 920, Epoch: 6, Batch: 15 out of 182, Loss: 6.01\n",
      "Iteration: 930, Epoch: 6, Batch: 25 out of 182, Loss: 5.94\n",
      "Iteration: 940, Epoch: 6, Batch: 35 out of 182, Loss: 5.95\n",
      "Iteration: 950, Epoch: 6, Batch: 45 out of 182, Loss: 5.96\nthou art more than to be\nto be or not to the\n",
      "wherefore art thou dost dost think think not think it is not to\n",
      "Iteration: 960, Epoch: 6, Batch: 55 out of 182, Loss: 6.09\n",
      "Iteration: 970, Epoch: 6, Batch: 65 out of 182, Loss: 6.04\n",
      "Iteration: 980, Epoch: 6, Batch: 75 out of 182, Loss: 5.92\n",
      "Iteration: 990, Epoch: 6, Batch: 85 out of 182, Loss: 5.79\n",
      "Iteration: 1000, Epoch: 6, Batch: 95 out of 182, Loss: 5.92\nModel Saved To: temp/shakespeare_model/model\n",
      "thou art more than a\nto be or not to be\n",
      "wherefore art thou rather didst didst thou art a\n",
      "Iteration: 1010, Epoch: 6, Batch: 105 out of 182, Loss: 6.00\n",
      "Iteration: 1020, Epoch: 6, Batch: 115 out of 182, Loss: 5.84\n",
      "Iteration: 1030, Epoch: 6, Batch: 125 out of 182, Loss: 5.87\n",
      "Iteration: 1040, Epoch: 6, Batch: 135 out of 182, Loss: 6.20\n",
      "Iteration: 1050, Epoch: 6, Batch: 145 out of 182, Loss: 6.04\nthou art more than a\n",
      "to be or not to the\nwherefore art thou shalt be not to be\n",
      "Iteration: 1060, Epoch: 6, Batch: 155 out of 182, Loss: 6.19\n",
      "Iteration: 1070, Epoch: 6, Batch: 165 out of 182, Loss: 5.80\n",
      "Iteration: 1080, Epoch: 6, Batch: 175 out of 182, Loss: 6.09\n",
      "Starting Epoch #7 of 10.\n",
      "Iteration: 1090, Epoch: 7, Batch: 4 out of 182, Loss: 5.85\n",
      "Iteration: 1100, Epoch: 7, Batch: 14 out of 182, Loss: 5.93\nthou art more than a\n",
      "to be or not to the\nwherefore art thou shalt have a\n",
      "Iteration: 1110, Epoch: 7, Batch: 24 out of 182, Loss: 5.93\n",
      "Iteration: 1120, Epoch: 7, Batch: 34 out of 182, Loss: 5.94\n",
      "Iteration: 1130, Epoch: 7, Batch: 44 out of 182, Loss: 5.94\n",
      "Iteration: 1140, Epoch: 7, Batch: 54 out of 182, Loss: 5.80\n",
      "Iteration: 1150, Epoch: 7, Batch: 64 out of 182, Loss: 5.89\nthou art more than a\n",
      "to be or not to the\nwherefore art thou shalt have a\n",
      "Iteration: 1160, Epoch: 7, Batch: 74 out of 182, Loss: 5.92\n",
      "Iteration: 1170, Epoch: 7, Batch: 84 out of 182, Loss: 5.81\n",
      "Iteration: 1180, Epoch: 7, Batch: 94 out of 182, Loss: 5.98\n",
      "Iteration: 1190, Epoch: 7, Batch: 104 out of 182, Loss: 5.88\n",
      "Iteration: 1200, Epoch: 7, Batch: 114 out of 182, Loss: 5.75\nthou art more than a\n",
      "to be or not to the\nwherefore art thou shalt be not to be\n",
      "Iteration: 1210, Epoch: 7, Batch: 124 out of 182, Loss: 6.03\n",
      "Iteration: 1220, Epoch: 7, Batch: 134 out of 182, Loss: 5.86\n",
      "Iteration: 1230, Epoch: 7, Batch: 144 out of 182, Loss: 5.88\n",
      "Iteration: 1240, Epoch: 7, Batch: 154 out of 182, Loss: 5.63\n",
      "Iteration: 1250, Epoch: 7, Batch: 164 out of 182, Loss: 5.89\nthou art more than a\n",
      "to be or not to be\nwherefore art thou shalt drink that i am not to the\n",
      "Iteration: 1260, Epoch: 7, Batch: 174 out of 182, Loss: 5.77\n",
      "Starting Epoch #8 of 10.\n",
      "Iteration: 1270, Epoch: 8, Batch: 3 out of 182, Loss: 6.12\n",
      "Iteration: 1280, Epoch: 8, Batch: 13 out of 182, Loss: 5.81\n",
      "Iteration: 1290, Epoch: 8, Batch: 23 out of 182, Loss: 5.78\n",
      "Iteration: 1300, Epoch: 8, Batch: 33 out of 182, Loss: 5.90\nthou art more than a\n",
      "to be or not to be\nwherefore art thou know'st rather didst thou art a\n",
      "Iteration: 1310, Epoch: 8, Batch: 43 out of 182, Loss: 5.97\n",
      "Iteration: 1320, Epoch: 8, Batch: 53 out of 182, Loss: 5.85\n",
      "Iteration: 1330, Epoch: 8, Batch: 63 out of 182, Loss: 5.98\n",
      "Iteration: 1340, Epoch: 8, Batch: 73 out of 182, Loss: 6.00\n",
      "Iteration: 1350, Epoch: 8, Batch: 83 out of 182, Loss: 5.75\nthou art more than a\n",
      "to be or not to the\nwherefore art thou shalt blame thee for thy\n",
      "Iteration: 1360, Epoch: 8, Batch: 93 out of 182, Loss: 5.76\n",
      "Iteration: 1370, Epoch: 8, Batch: 103 out of 182, Loss: 5.62\n",
      "Iteration: 1380, Epoch: 8, Batch: 113 out of 182, Loss: 5.89\n",
      "Iteration: 1390, Epoch: 8, Batch: 123 out of 182, Loss: 5.74\n",
      "Iteration: 1400, Epoch: 8, Batch: 133 out of 182, Loss: 5.85\nthou art more than a\n",
      "to be or not to the\nwherefore art thou shalt have a\n",
      "Iteration: 1410, Epoch: 8, Batch: 143 out of 182, Loss: 5.86\n",
      "Iteration: 1420, Epoch: 8, Batch: 153 out of 182, Loss: 5.89\n",
      "Iteration: 1430, Epoch: 8, Batch: 163 out of 182, Loss: 5.96\n",
      "Iteration: 1440, Epoch: 8, Batch: 173 out of 182, Loss: 6.11\n",
      "Starting Epoch #9 of 10.\n",
      "Iteration: 1450, Epoch: 9, Batch: 2 out of 182, Loss: 5.70\nthou art more than a\n",
      "to be or not to be\nwherefore art thou shalt have a\n",
      "Iteration: 1460, Epoch: 9, Batch: 12 out of 182, Loss: 6.01\n",
      "Iteration: 1470, Epoch: 9, Batch: 22 out of 182, Loss: 5.90\n",
      "Iteration: 1480, Epoch: 9, Batch: 32 out of 182, Loss: 5.68\n",
      "Iteration: 1490, Epoch: 9, Batch: 42 out of 182, Loss: 5.86\n",
      "Iteration: 1500, Epoch: 9, Batch: 52 out of 182, Loss: 5.57\n",
      "Model Saved To: temp/shakespeare_model/model\nthou art more than a\n",
      "to be or not to the\n",
      "wherefore art thou shalt have a\n",
      "Iteration: 1510, Epoch: 9, Batch: 62 out of 182, Loss: 5.75\n",
      "Iteration: 1520, Epoch: 9, Batch: 72 out of 182, Loss: 5.79\n",
      "Iteration: 1530, Epoch: 9, Batch: 82 out of 182, Loss: 5.52\n",
      "Iteration: 1540, Epoch: 9, Batch: 92 out of 182, Loss: 5.83\n",
      "Iteration: 1550, Epoch: 9, Batch: 102 out of 182, Loss: 5.87\nthou art more than a\n",
      "to be or not to be\nwherefore art thou speak'st sick which thou hast not so\n",
      "Iteration: 1560, Epoch: 9, Batch: 112 out of 182, Loss: 5.62\n",
      "Iteration: 1570, Epoch: 9, Batch: 122 out of 182, Loss: 6.02\n",
      "Iteration: 1580, Epoch: 9, Batch: 132 out of 182, Loss: 5.76\n",
      "Iteration: 1590, Epoch: 9, Batch: 142 out of 182, Loss: 5.82\n",
      "Iteration: 1600, Epoch: 9, Batch: 152 out of 182, Loss: 5.43\nthou art more than a\n",
      "to be or not to be\nwherefore art thou shalt blame thee for thy\n",
      "Iteration: 1610, Epoch: 9, Batch: 162 out of 182, Loss: 5.91\n",
      "Iteration: 1620, Epoch: 9, Batch: 172 out of 182, Loss: 5.88\n",
      "Starting Epoch #10 of 10.\n",
      "Iteration: 1630, Epoch: 10, Batch: 1 out of 182, Loss: 5.80\n",
      "Iteration: 1640, Epoch: 10, Batch: 11 out of 182, Loss: 5.89\n",
      "Iteration: 1650, Epoch: 10, Batch: 21 out of 182, Loss: 5.65\nthou art more than a\n",
      "to be or not to the\nwherefore art thou shalt have a\n",
      "Iteration: 1660, Epoch: 10, Batch: 31 out of 182, Loss: 5.97\n",
      "Iteration: 1670, Epoch: 10, Batch: 41 out of 182, Loss: 5.77\n",
      "Iteration: 1680, Epoch: 10, Batch: 51 out of 182, Loss: 5.84\n",
      "Iteration: 1690, Epoch: 10, Batch: 61 out of 182, Loss: 5.77\n",
      "Iteration: 1700, Epoch: 10, Batch: 71 out of 182, Loss: 5.47\nthou art more than a\n",
      "to be or not to be\nwherefore art thou shalt have a\n",
      "Iteration: 1710, Epoch: 10, Batch: 81 out of 182, Loss: 5.62\n",
      "Iteration: 1720, Epoch: 10, Batch: 91 out of 182, Loss: 5.49\n",
      "Iteration: 1730, Epoch: 10, Batch: 101 out of 182, Loss: 5.74\n",
      "Iteration: 1740, Epoch: 10, Batch: 111 out of 182, Loss: 5.63\n",
      "Iteration: 1750, Epoch: 10, Batch: 121 out of 182, Loss: 5.76\nthou art more than a\n",
      "to be or not to the\nwherefore art thou shalt have a\n",
      "Iteration: 1760, Epoch: 10, Batch: 131 out of 182, Loss: 5.45\n",
      "Iteration: 1770, Epoch: 10, Batch: 141 out of 182, Loss: 5.93\n",
      "Iteration: 1780, Epoch: 10, Batch: 151 out of 182, Loss: 6.04\n",
      "Iteration: 1790, Epoch: 10, Batch: 161 out of 182, Loss: 5.84\n",
      "Iteration: 1800, Epoch: 10, Batch: 171 out of 182, Loss: 5.73\nthou art more than a\n",
      "to be or not to be\nwherefore art thou shalt have a\n",
      "Iteration: 1810, Epoch: 10, Batch: 181 out of 182, Loss: 5.65\n"
     ],
     "output_type": "stream"
    }
   ],
   "source": [
    "# Train model\n",
    "train_loss = []\n",
    "iteration_count = 1\n",
    "for epoch in range(epochs):\n",
    "    # Shuffle word indices\n",
    "    random.shuffle(batches)\n",
    "    # Create targets from shuffled batches\n",
    "    targets = [np.roll(x, -1, axis=1) for x in batches]\n",
    "    # Run a through one epoch\n",
    "    print('Starting Epoch #{} of {}.'.format(epoch+1, epochs))\n",
    "    # Reset initial LSTM state every epoch\n",
    "    state = sess.run(lstm_model.initial_state)\n",
    "    for ix, batch in enumerate(batches):\n",
    "        training_dict = {lstm_model.x_data: batch, lstm_model.y_output: targets[ix]}\n",
    "        c, h = lstm_model.initial_state\n",
    "        training_dict[c] = state.c\n",
    "        training_dict[h] = state.h\n",
    "        \n",
    "        temp_loss, state, _ = sess.run([lstm_model.cost, lstm_model.final_state, lstm_model.train_op],\n",
    "                                       feed_dict=training_dict)\n",
    "        train_loss.append(temp_loss)\n",
    "        \n",
    "        # Print status every 10 gens\n",
    "        if iteration_count % 10 == 0:\n",
    "            summary_nums = (iteration_count, epoch+1, ix+1, num_batches+1, temp_loss)\n",
    "            print('Iteration: {}, Epoch: {}, Batch: {} out of {}, Loss: {:.2f}'.format(*summary_nums))\n",
    "        \n",
    "        # Save the model and the vocab\n",
    "        if iteration_count % save_every == 0:\n",
    "            # Save model\n",
    "            model_file_name = os.path.join(full_model_dir, 'model')\n",
    "            saver.save(sess, model_file_name, global_step = iteration_count)\n",
    "            print('Model Saved To: {}'.format(model_file_name))\n",
    "            # Save vocabulary\n",
    "            dictionary_file = os.path.join(full_model_dir, 'vocab.pkl')\n",
    "            with open(dictionary_file, 'wb') as dict_file_conn:\n",
    "                pickle.dump([vocab2ix, ix2vocab], dict_file_conn)\n",
    "        \n",
    "        if iteration_count % eval_every == 0:\n",
    "            for sample in prime_texts:\n",
    "                print(test_lstm_model.sample(sess, ix2vocab, vocab2ix, num=10, prime_text=sample))\n",
    "                \n",
    "        iteration_count += 1\n",
    "\n"
   ],
   "metadata": {
    "collapsed": false,
    "pycharm": {
     "name": "#%%\n",
     "is_executing": false
    }
   }
  },
  {
   "cell_type": "code",
   "execution_count": 16,
   "outputs": [
    {
     "data": {
      "text/plain": "<Figure size 432x288 with 1 Axes>",
      "image/png": "[encoded data removed]"
     },
     "metadata": {
      "needs_background": "light"
     },
     "output_type": "display_data"
    }
   ],
   "source": [
    "# Plot loss over time\n",
    "plt.plot(train_loss, 'k-')\n",
    "plt.title('Sequence to Sequence Loss')\n",
    "plt.xlabel('Iterations')\n",
    "plt.ylabel('Loss')\n",
    "plt.show()\n",
    "\n"
   ],
   "metadata": {
    "collapsed": false,
    "pycharm": {
     "name": "#%%\n",
     "is_executing": false
    }
   }
  },
  {
   "cell_type": "code",
   "execution_count": null,
   "outputs": [],
   "source": [
    "\n"
   ],
   "metadata": {
    "collapsed": false,
    "pycharm": {
     "name": "#%%\n"
    }
   }
  }
 ],
 "metadata": {
  "language_info": {
   "codemirror_mode": {
    "name": "ipython",
    "version": 2
   },
   "file_extension": ".py",
   "mimetype": "text/x-python",
   "name": "python",
   "nbconvert_exporter": "python",
   "pygments_lexer": "ipython2",
   "version": "2.7.6"
  },
  "kernelspec": {
   "name": "python3",
   "language": "python",
   "display_name": "Python 3"
  },
  "pycharm": {
   "stem_cell": {
    "cell_type": "raw",
    "source": [],
    "metadata": {
     "collapsed": false
    }
   }
  }
 },
 "nbformat": 4,
 "nbformat_minor": 0
}