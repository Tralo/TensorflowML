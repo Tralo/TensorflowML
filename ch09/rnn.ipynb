{
 "cells": [
  {
   "cell_type": "code",
   "execution_count": 1,
   "metadata": {
    "collapsed": true,
    "pycharm": {
     "is_executing": false
    }
   },
   "outputs": [],
   "source": [
    "import os\n",
    "import re\n",
    "import io\n",
    "import requests\n",
    "import numpy as np\n",
    "import matplotlib.pyplot as plt\n",
    "import tensorflow as tf\n",
    "from zipfile import ZipFile\n",
    "from tensorflow.python.framework import ops\n",
    "ops.reset_default_graph()\n",
    "\n",
    "# Start a graph\n",
    "sess = tf.Session()\n",
    "\n"
   ]
  },
  {
   "cell_type": "code",
   "execution_count": 2,
   "outputs": [],
   "source": [
    "# Set RNN parameters\n",
    "epochs = 50\n",
    "batch_size = 250\n",
    "max_sequence_length = 25\n",
    "rnn_size = 10\n",
    "embedding_size = 50\n",
    "min_word_frequency = 10\n",
    "learning_rate = 0.0005\n",
    "dropout_keep_prob = tf.placeholder(tf.float32)\n",
    "\n"
   ],
   "metadata": {
    "collapsed": false,
    "pycharm": {
     "name": "#%%\n",
     "is_executing": false
    }
   }
  },
  {
   "cell_type": "code",
   "execution_count": 4,
   "outputs": [],
   "source": [
    "# Download or open data\n",
    "data_dir = 'temp'\n",
    "data_file = 'text_data.txt'\n",
    "if not os.path.exists(data_dir):\n",
    "    os.makedirs(data_dir)\n",
    "\n",
    "if not os.path.isfile(os.path.join(data_dir, data_file)):\n",
    "    zip_url = 'http://archive.ics.uci.edu/ml/machine-learning-databases/00228/smsspamcollection.zip'\n",
    "    r = requests.get(zip_url)\n",
    "    z = ZipFile(io.BytesIO(r.content))\n",
    "    file = z.read('SMSSpamCollection')\n",
    "    # Format Data\n",
    "    text_data = file.decode()\n",
    "    text_data = text_data.encode('ascii', errors='ignore')\n",
    "    text_data = text_data.decode().split('\\n')\n",
    "\n",
    "    # Save data to text file\n",
    "    with open(os.path.join(data_dir, data_file), 'w') as file_conn:\n",
    "        for text in text_data:\n",
    "            file_conn.write(\"{}\\n\".format(text))\n",
    "else:\n",
    "    # Open data from text file\n",
    "    text_data = []\n",
    "    with open(os.path.join(data_dir, data_file), 'r') as file_conn:\n",
    "        for row in file_conn:\n",
    "            text_data.append(row)\n",
    "    text_data = text_data[:-1]\n",
    "\n",
    "text_data = [x.split('\\t') for x in text_data if len(x) >= 1]\n",
    "[text_data_target, text_data_train] = [list(x) for x in zip(*text_data)]\n",
    "\n"
   ],
   "metadata": {
    "collapsed": false,
    "pycharm": {
     "name": "#%%\n",
     "is_executing": false
    }
   }
  },
  {
   "cell_type": "code",
   "execution_count": 5,
   "outputs": [
    {
     "name": "stdout",
     "text": [
      "\nWARNING: The TensorFlow contrib module will not be included in TensorFlow 2.0.\nFor more information, please see:\n  * https://github.com/tensorflow/community/blob/master/rfcs/20180907-contrib-sunset.md\n  * https://github.com/tensorflow/addons\nIf you depend on functionality not listed there, please file an issue.\n\nWARNING:tensorflow:From <ipython-input-5-54649c996e60>:14: VocabularyProcessor.__init__ (from tensorflow.contrib.learn.python.learn.preprocessing.text) is deprecated and will be removed in a future version.\nInstructions for updating:\nPlease use tensorflow/transform or tf.data.\n",
      "WARNING:tensorflow:From /usr/local/lib/python3.6/dist-packages/tensorflow/contrib/learn/python/learn/preprocessing/text.py:154: CategoricalVocabulary.__init__ (from tensorflow.contrib.learn.python.learn.preprocessing.categorical_vocabulary) is deprecated and will be removed in a future version.\nInstructions for updating:\nPlease use tensorflow/transform or tf.data.\n",
      "WARNING:tensorflow:From /usr/local/lib/python3.6/dist-packages/tensorflow/contrib/learn/python/learn/preprocessing/text.py:170: tokenizer (from tensorflow.contrib.learn.python.learn.preprocessing.text) is deprecated and will be removed in a future version.\nInstructions for updating:\nPlease use tensorflow/transform or tf.data.\n"
     ],
     "output_type": "stream"
    }
   ],
   "source": [
    "# Create a text cleaning function\n",
    "def clean_text(text_string):\n",
    "    text_string = re.sub(r'([^\\s\\w]|_|[0-9])+', '', text_string)\n",
    "    text_string = \" \".join(text_string.split())\n",
    "    text_string = text_string.lower()\n",
    "    return text_string\n",
    "\n",
    "\n",
    "# Clean texts\n",
    "text_data_train = [clean_text(x) for x in text_data_train]\n",
    "\n",
    "# Change texts into numeric vectors\n",
    "vocab_processor = tf.contrib.learn.preprocessing.VocabularyProcessor(max_sequence_length,\n",
    "                                                                     min_frequency=min_word_frequency)\n",
    "text_processed = np.array(list(vocab_processor.fit_transform(text_data_train)))\n",
    "\n"
   ],
   "metadata": {
    "collapsed": false,
    "pycharm": {
     "name": "#%%\n",
     "is_executing": false
    }
   }
  },
  {
   "cell_type": "code",
   "execution_count": 6,
   "outputs": [
    {
     "name": "stdout",
     "text": [
      "Vocabulary Size: 933\n80-20 Train Test split: 4459 -- 1115\n"
     ],
     "output_type": "stream"
    }
   ],
   "source": [
    "# Shuffle and split data\n",
    "text_processed = np.array(text_processed)\n",
    "text_data_target = np.array([1 if x == 'ham' else 0 for x in text_data_target])\n",
    "shuffled_ix = np.random.permutation(np.arange(len(text_data_target)))\n",
    "x_shuffled = text_processed[shuffled_ix]\n",
    "y_shuffled = text_data_target[shuffled_ix]\n",
    "\n",
    "# Split train/test set\n",
    "ix_cutoff = int(len(y_shuffled)*0.80)\n",
    "x_train, x_test = x_shuffled[:ix_cutoff], x_shuffled[ix_cutoff:]\n",
    "y_train, y_test = y_shuffled[:ix_cutoff], y_shuffled[ix_cutoff:]\n",
    "vocab_size = len(vocab_processor.vocabulary_)\n",
    "print(\"Vocabulary Size: {:d}\".format(vocab_size))\n",
    "print(\"80-20 Train Test split: {:d} -- {:d}\".format(len(y_train), len(y_test)))\n",
    "\n"
   ],
   "metadata": {
    "collapsed": false,
    "pycharm": {
     "name": "#%%\n",
     "is_executing": false
    }
   }
  },
  {
   "cell_type": "code",
   "execution_count": 7,
   "outputs": [
    {
     "name": "stdout",
     "text": [
      "WARNING:tensorflow:From /usr/local/lib/python3.6/dist-packages/tensorflow/python/framework/op_def_library.py:263: colocate_with (from tensorflow.python.framework.ops) is deprecated and will be removed in a future version.\nInstructions for updating:\nColocations handled automatically by placer.\n",
      "WARNING:tensorflow:From <ipython-input-7-528c942593fa>:12: BasicRNNCell.__init__ (from tensorflow.python.ops.rnn_cell_impl) is deprecated and will be removed in a future version.\nInstructions for updating:\nThis class is equivalent as tf.keras.layers.SimpleRNNCell, and will be replaced by that in Tensorflow 2.0.\n",
      "WARNING:tensorflow:From <ipython-input-7-528c942593fa>:16: dynamic_rnn (from tensorflow.python.ops.rnn) is deprecated and will be removed in a future version.\nInstructions for updating:\nPlease use `keras.layers.RNN(cell)`, which is equivalent to this API\n",
      "WARNING:tensorflow:From <ipython-input-7-528c942593fa>:17: calling dropout (from tensorflow.python.ops.nn_ops) with keep_prob is deprecated and will be removed in a future version.\nInstructions for updating:\nPlease use `rate` instead of `keep_prob`. Rate should be set to `rate = 1 - keep_prob`.\n"
     ],
     "output_type": "stream"
    }
   ],
   "source": [
    "# Create placeholders\n",
    "x_data = tf.placeholder(tf.int32, [None, max_sequence_length])\n",
    "y_output = tf.placeholder(tf.int32, [None])\n",
    "\n",
    "# Create embedding\n",
    "embedding_mat = tf.Variable(tf.random_uniform([vocab_size, embedding_size], -1.0, 1.0))\n",
    "embedding_output = tf.nn.embedding_lookup(embedding_mat, x_data)\n",
    "\n",
    "# Define the RNN cell\n",
    "# tensorflow change >= 1.0, rnn is put into tensorflow.contrib directory. Prior version not test.\n",
    "if tf.__version__[0] >= '1':\n",
    "    cell = tf.contrib.rnn.BasicRNNCell(num_units=rnn_size)\n",
    "else:\n",
    "    cell = tf.nn.rnn_cell.BasicRNNCell(num_units=rnn_size)\n",
    "\n",
    "output, state = tf.nn.dynamic_rnn(cell, embedding_output, dtype=tf.float32)\n",
    "output = tf.nn.dropout(output, dropout_keep_prob)\n",
    "\n",
    "# Get output of RNN sequence\n",
    "output = tf.transpose(output, [1, 0, 2])\n",
    "last = tf.gather(output, int(output.get_shape()[0]) - 1)\n",
    "\n",
    "weight = tf.Variable(tf.truncated_normal([rnn_size, 2], stddev=0.1))\n",
    "bias = tf.Variable(tf.constant(0.1, shape=[2]))\n",
    "logits_out = tf.matmul(last, weight) + bias\n",
    "\n"
   ],
   "metadata": {
    "collapsed": false,
    "pycharm": {
     "name": "#%%\n",
     "is_executing": false
    }
   }
  },
  {
   "cell_type": "code",
   "execution_count": 8,
   "outputs": [
    {
     "name": "stdout",
     "text": [
      "WARNING:tensorflow:From /usr/local/lib/python3.6/dist-packages/tensorflow/python/ops/array_grad.py:425: to_int32 (from tensorflow.python.ops.math_ops) is deprecated and will be removed in a future version.\nInstructions for updating:\nUse tf.cast instead.\n"
     ],
     "output_type": "stream"
    },
    {
     "name": "stderr",
     "text": [
      "/usr/local/lib/python3.6/dist-packages/tensorflow/python/ops/gradients_impl.py:110: UserWarning: Converting sparse IndexedSlices to a dense Tensor of unknown shape. This may consume a large amount of memory.\n  \"Converting sparse IndexedSlices to a dense Tensor of unknown shape. \"\n"
     ],
     "output_type": "stream"
    }
   ],
   "source": [
    "# Loss function\n",
    "losses = tf.nn.sparse_softmax_cross_entropy_with_logits(logits=logits_out, labels=y_output)\n",
    "loss = tf.reduce_mean(losses)\n",
    "\n",
    "accuracy = tf.reduce_mean(tf.cast(tf.equal(tf.argmax(logits_out, 1), tf.cast(y_output, tf.int64)), tf.float32))\n",
    "\n",
    "optimizer = tf.train.RMSPropOptimizer(learning_rate)\n",
    "train_step = optimizer.minimize(loss)\n",
    "\n"
   ],
   "metadata": {
    "collapsed": false,
    "pycharm": {
     "name": "#%%\n",
     "is_executing": false
    }
   }
  },
  {
   "cell_type": "code",
   "execution_count": 9,
   "outputs": [],
   "source": [
    "init = tf.global_variables_initializer()\n",
    "sess.run(init)\n",
    "\n",
    "train_loss = []\n",
    "test_loss = []\n",
    "train_accuracy = []\n",
    "test_accuracy = []\n",
    "\n"
   ],
   "metadata": {
    "collapsed": false,
    "pycharm": {
     "name": "#%%\n",
     "is_executing": false
    }
   }
  },
  {
   "cell_type": "code",
   "execution_count": 10,
   "outputs": [
    {
     "name": "stdout",
     "text": [
      "Epoch: 1, Test Loss: 0.76, Test Acc: 0.19\nEpoch: 2, Test Loss: 0.72, Test Acc: 0.19\n",
      "Epoch: 3, Test Loss: 0.67, Test Acc: 0.83\nEpoch: 4, Test Loss: 0.61, Test Acc: 0.83\n",
      "Epoch: 5, Test Loss: 0.55, Test Acc: 0.83\n",
      "Epoch: 6, Test Loss: 0.5, Test Acc: 0.84\nEpoch: 7, Test Loss: 0.47, Test Acc: 0.84\n",
      "Epoch: 8, Test Loss: 0.45, Test Acc: 0.84\n",
      "Epoch: 9, Test Loss: 0.43, Test Acc: 0.84\nEpoch: 10, Test Loss: 0.42, Test Acc: 0.85\n",
      "Epoch: 11, Test Loss: 0.41, Test Acc: 0.85\n",
      "Epoch: 12, Test Loss: 0.41, Test Acc: 0.85\nEpoch: 13, Test Loss: 0.41, Test Acc: 0.85\n",
      "Epoch: 14, Test Loss: 0.41, Test Acc: 0.86\n",
      "Epoch: 15, Test Loss: 0.4, Test Acc: 0.86\nEpoch: 16, Test Loss: 0.4, Test Acc: 0.86\n",
      "Epoch: 17, Test Loss: 0.4, Test Acc: 0.86\n",
      "Epoch: 18, Test Loss: 0.4, Test Acc: 0.87\nEpoch: 19, Test Loss: 0.39, Test Acc: 0.87\n",
      "Epoch: 20, Test Loss: 0.39, Test Acc: 0.87\n",
      "Epoch: 21, Test Loss: 0.39, Test Acc: 0.87\nEpoch: 22, Test Loss: 0.39, Test Acc: 0.87\n",
      "Epoch: 23, Test Loss: 0.38, Test Acc: 0.87\n",
      "Epoch: 24, Test Loss: 0.38, Test Acc: 0.87\nEpoch: 25, Test Loss: 0.37, Test Acc: 0.87\n",
      "Epoch: 26, Test Loss: 0.36, Test Acc: 0.87\n",
      "Epoch: 27, Test Loss: 0.34, Test Acc: 0.87\nEpoch: 28, Test Loss: 0.31, Test Acc: 0.88\n",
      "Epoch: 29, Test Loss: 0.29, Test Acc: 0.9\n",
      "Epoch: 30, Test Loss: 0.26, Test Acc: 0.9\nEpoch: 31, Test Loss: 0.25, Test Acc: 0.91\n",
      "Epoch: 32, Test Loss: 0.23, Test Acc: 0.92\n",
      "Epoch: 33, Test Loss: 0.22, Test Acc: 0.93\nEpoch: 34, Test Loss: 0.21, Test Acc: 0.93\n",
      "Epoch: 35, Test Loss: 0.21, Test Acc: 0.93\n",
      "Epoch: 36, Test Loss: 0.19, Test Acc: 0.94\nEpoch: 37, Test Loss: 0.18, Test Acc: 0.94\n",
      "Epoch: 38, Test Loss: 0.18, Test Acc: 0.95\n",
      "Epoch: 39, Test Loss: 0.17, Test Acc: 0.95\nEpoch: 40, Test Loss: 0.17, Test Acc: 0.95\n",
      "Epoch: 41, Test Loss: 0.16, Test Acc: 0.95\nEpoch: 42, Test Loss: 0.16, Test Acc: 0.95\n",
      "Epoch: 43, Test Loss: 0.16, Test Acc: 0.96\n",
      "Epoch: 44, Test Loss: 0.16, Test Acc: 0.95\nEpoch: 45, Test Loss: 0.15, Test Acc: 0.96\n",
      "Epoch: 46, Test Loss: 0.15, Test Acc: 0.96\n",
      "Epoch: 47, Test Loss: 0.14, Test Acc: 0.96\nEpoch: 48, Test Loss: 0.13, Test Acc: 0.96\n",
      "Epoch: 49, Test Loss: 0.15, Test Acc: 0.94\n",
      "Epoch: 50, Test Loss: 0.13, Test Acc: 0.96\n"
     ],
     "output_type": "stream"
    }
   ],
   "source": [
    "# Start training\n",
    "for epoch in range(epochs):\n",
    "\n",
    "    # Shuffle training data\n",
    "    shuffled_ix = np.random.permutation(np.arange(len(x_train)))\n",
    "    x_train = x_train[shuffled_ix]\n",
    "    y_train = y_train[shuffled_ix]\n",
    "    num_batches = int(len(x_train)/batch_size) + 1\n",
    "    # TO DO CALCULATE GENERATIONS ExACTLY\n",
    "    for i in range(num_batches):\n",
    "        # Select train data\n",
    "        min_ix = i * batch_size\n",
    "        max_ix = np.min([len(x_train), ((i+1) * batch_size)])\n",
    "        x_train_batch = x_train[min_ix:max_ix]\n",
    "        y_train_batch = y_train[min_ix:max_ix]\n",
    "        \n",
    "        # Run train step\n",
    "        train_dict = {x_data: x_train_batch, y_output: y_train_batch, dropout_keep_prob:0.5}\n",
    "        sess.run(train_step, feed_dict=train_dict)\n",
    "        \n",
    "    # Run loss and accuracy for training\n",
    "    temp_train_loss, temp_train_acc = sess.run([loss, accuracy], feed_dict=train_dict)\n",
    "    train_loss.append(temp_train_loss)\n",
    "    train_accuracy.append(temp_train_acc)\n",
    "    \n",
    "    # Run Eval Step\n",
    "    test_dict = {x_data: x_test, y_output: y_test, dropout_keep_prob:1.0}\n",
    "    temp_test_loss, temp_test_acc = sess.run([loss, accuracy], feed_dict=test_dict)\n",
    "    test_loss.append(temp_test_loss)\n",
    "    test_accuracy.append(temp_test_acc)\n",
    "    print('Epoch: {}, Test Loss: {:.2}, Test Acc: {:.2}'.format(epoch+1, temp_test_loss, temp_test_acc))\n",
    "\n"
   ],
   "metadata": {
    "collapsed": false,
    "pycharm": {
     "name": "#%%\n",
     "is_executing": false
    }
   }
  },
  {
   "cell_type": "code",
   "execution_count": 12,
   "outputs": [
    {
     "data": {
      "text/plain": "<Figure size 432x288 with 1 Axes>",
      "image/png": "[encoded data removed]"
     },
     "metadata": {
      "needs_background": "light"
     },
     "output_type": "display_data"
    },
    {
     "data": {
      "text/plain": "<Figure size 432x288 with 1 Axes>",
      "image/png": "[encoded data removed]"
     },
     "metadata": {
      "needs_background": "light"
     },
     "output_type": "display_data"
    }
   ],
   "source": [
    "%matplotlib inline\n",
    "\n",
    "# Plot loss over time\n",
    "epoch_seq = np.arange(1, epochs+1)\n",
    "plt.plot(epoch_seq, train_loss, 'k--', label='Train Set')\n",
    "plt.plot(epoch_seq, test_loss, 'r-', label='Test Set')\n",
    "plt.title('Softmax Loss')\n",
    "plt.xlabel('Epochs')\n",
    "plt.ylabel('Softmax Loss')\n",
    "plt.legend(loc='upper left')\n",
    "plt.show()\n",
    "\n",
    "# Plot accuracy over time\n",
    "plt.plot(epoch_seq, train_accuracy, 'k--', label='Train Set')\n",
    "plt.plot(epoch_seq, test_accuracy, 'r-', label='Test Set')\n",
    "plt.title('Test Accuracy')\n",
    "plt.xlabel('Epochs')\n",
    "plt.ylabel('Accuracy')\n",
    "plt.legend(loc='lower right')\n",
    "plt.show()\n",
    "\n"
   ],
   "metadata": {
    "collapsed": false,
    "pycharm": {
     "name": "#%%\n",
     "is_executing": false
    }
   }
  },
  {
   "cell_type": "code",
   "execution_count": 13,
   "outputs": [],
   "source": [
    "sample_texts = ['Hi, please respond 1111 asap to claim your change to win now!',\n",
    "                'Hey what are you doing for dinner tonight?',\n",
    "                'New offer, show this text for 50% off of our inagural sale!',\n",
    "                'Can you take the dog to the vet tomorrow?',\n",
    "                'Congratulations! You have been randomly selected to receive account credit!']"
   ],
   "metadata": {
    "collapsed": false,
    "pycharm": {
     "name": "#%%\n",
     "is_executing": false
    }
   }
  },
  {
   "cell_type": "code",
   "execution_count": 14,
   "outputs": [
    {
     "name": "stdout",
     "text": [
      "['hi please respond asap to claim your change to win now', 'hey what are you doing for dinner tonight', 'new offer show this text for off of our inagural sale', 'can you take the dog to the vet tomorrow', 'congratulations you have been randomly selected to receive account credit']\n"
     ],
     "output_type": "stream"
    }
   ],
   "source": [
    "clean_texts = [clean_text(text) for text in sample_texts]\n",
    "print(clean_texts)\n",
    "\n"
   ],
   "metadata": {
    "collapsed": false,
    "pycharm": {
     "name": "#%%\n",
     "is_executing": false
    }
   }
  },
  {
   "cell_type": "code",
   "execution_count": 15,
   "outputs": [
    {
     "name": "stdout",
     "text": [
      "[[ 93  99   0   0   1 114  13 524   1 178  21   0   0   0   0   0   0   0\n    0   0   0   0   0   0   0]\n [121  52  20   3 151  12 332 208   0   0   0   0   0   0   0   0   0   0\n    0   0   0   0   0   0   0]\n [ 92 376 483  39  69  12 203  15  86   0   0   0   0   0   0   0   0   0\n    0   0   0   0   0   0   0]\n [ 28   3 104   5   0   1   5   0 143   0   0   0   0   0   0   0   0   0\n    0   0   0   0   0   0   0]\n [701   3  17  98   0 420   1 318 301 738   0   0   0   0   0   0   0   0\n    0   0   0   0   0   0   0]]\n"
     ],
     "output_type": "stream"
    }
   ],
   "source": [
    "processed_texts = np.array(list(vocab_processor.transform(clean_texts)))\n",
    "print(processed_texts)\n",
    "\n"
   ],
   "metadata": {
    "collapsed": false,
    "pycharm": {
     "name": "#%%\n",
     "is_executing": false
    }
   }
  },
  {
   "cell_type": "code",
   "execution_count": 16,
   "outputs": [
    {
     "name": "stdout",
     "text": [
      "[[0.82748437 0.17251562]\n [0.01370636 0.9862937 ]\n [0.01374277 0.98625726]\n [0.01370667 0.9862933 ]\n [0.7867416  0.2132584 ]]\n"
     ],
     "output_type": "stream"
    }
   ],
   "source": [
    "# Remember to wrap the resulting logits in a softmax to get probabilities\n",
    "eval_feed_dict = {x_data: processed_texts, dropout_keep_prob: 1.0}\n",
    "model_results = sess.run(tf.nn.softmax(logits_out), feed_dict=eval_feed_dict)\n",
    "\n",
    "print(model_results)\n",
    "\n"
   ],
   "metadata": {
    "collapsed": false,
    "pycharm": {
     "name": "#%%\n",
     "is_executing": false
    }
   }
  },
  {
   "cell_type": "code",
   "execution_count": 17,
   "outputs": [
    {
     "name": "stdout",
     "text": [
      "Text: Hi, please respond 1111 asap to claim your change to win now!, \nPrediction: spam\n\nText: Hey what are you doing for dinner tonight?, \nPrediction: ham\n\nText: New offer, show this text for 50% off of our inagural sale!, \nPrediction: ham\n\nText: Can you take the dog to the vet tomorrow?, \nPrediction: ham\n\nText: Congratulations! You have been randomly selected to receive account credit!, \nPrediction: spam\n\n"
     ],
     "output_type": "stream"
    }
   ],
   "source": [
    "categories = ['spam', 'ham']\n",
    "\n",
    "for ix, result in enumerate(model_results):\n",
    "    prediction = categories[np.argmax(result)]\n",
    "    \n",
    "    print('Text: {}, \\nPrediction: {}\\n'.format(sample_texts[ix], prediction))\n",
    "\n"
   ],
   "metadata": {
    "collapsed": false,
    "pycharm": {
     "name": "#%%\n",
     "is_executing": false
    }
   }
  },
  {
   "cell_type": "code",
   "execution_count": null,
   "outputs": [],
   "source": [
    "\n"
   ],
   "metadata": {
    "collapsed": false,
    "pycharm": {
     "name": "#%%\n"
    }
   }
  }
 ],
 "metadata": {
  "language_info": {
   "codemirror_mode": {
    "name": "ipython",
    "version": 2
   },
   "file_extension": ".py",
   "mimetype": "text/x-python",
   "name": "python",
   "nbconvert_exporter": "python",
   "pygments_lexer": "ipython2",
   "version": "2.7.6"
  },
  "kernelspec": {
   "name": "python3",
   "language": "python",
   "display_name": "Python 3"
  },
  "pycharm": {
   "stem_cell": {
    "cell_type": "raw",
    "source": [],
    "metadata": {
     "collapsed": false
    }
   }
  }
 },
 "nbformat": 4,
 "nbformat_minor": 0
}