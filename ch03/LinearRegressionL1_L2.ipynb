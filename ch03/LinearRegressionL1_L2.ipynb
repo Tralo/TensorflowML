{
 "cells": [
  {
   "cell_type": "code",
   "execution_count": 15,
   "metadata": {
    "collapsed": true,
    "pycharm": {
     "is_executing": false
    }
   },
   "outputs": [],
   "source": [
    "%matplotlib inline\n",
    "import matplotlib.pyplot as plt\n",
    "import numpy as np\n",
    "import tensorflow as tf\n",
    "from sklearn import datasets\n",
    "sess = tf.Session()\n",
    "iris = datasets.load_iris()\n",
    "x_vals = np.array([x[3] for x in iris.data])\n",
    "y_vals = np.array([y[0] for y in iris.data])\n",
    "batch_size = 25\n",
    "learning_rate = 0.1\n",
    "iterations = 100\n",
    "x_data = tf.placeholder(shape=[None, 1], dtype=tf.float32)\n",
    "y_target = tf.placeholder(shape=[None, 1], dtype=tf.float32)\n",
    "A = tf.Variable(tf.random_normal(shape=[1, 1]))\n",
    "b = tf.Variable(tf.random_normal(shape=[1, 1]))\n",
    "model_output = tf.add(tf.matmul(x_data, A), b)\n",
    "\n"
   ]
  },
  {
   "cell_type": "code",
   "execution_count": 16,
   "outputs": [],
   "source": [
    "loss_l1 = tf.reduce_mean(tf.abs(y_target - model_output))\n",
    "loss_l2 = tf.reduce_mean(tf.square(y_target - model_output))\n",
    "\n"
   ],
   "metadata": {
    "collapsed": false,
    "pycharm": {
     "name": "#%%\n",
     "is_executing": false
    }
   }
  },
  {
   "cell_type": "code",
   "execution_count": 17,
   "outputs": [
    {
     "name": "stdout",
     "text": [
      "Step #25 A = [[1.1163188]] b = [[4.486496]]\nStep #50 A = [[0.90238553]] b = [[4.711325]]\n"
     ],
     "output_type": "stream"
    }
   ],
   "source": [
    "init = tf.global_variables_initializer()\n",
    "sess.run(init)\n",
    "my_opt_l1 = tf.train.GradientDescentOptimizer(learning_rate=learning_rate)\n",
    "train_step_l1 = my_opt_l1.minimize(loss_l1)\n",
    "\n",
    "my_opt_l2 = tf.train.GradientDescentOptimizer(learning_rate=learning_rate)\n",
    "train_step_l2 = my_opt_l2.minimize(loss_l2)\n",
    "loss_vec_l1 = []\n",
    "loss_vec_l2 = []\n",
    "\n",
    "\n",
    "for i in range(iterations):\n",
    "    rand_index = np.random.choice(len(x_vals), size=batch_size)\n",
    "    rand_x = np.transpose([x_vals[rand_index]])\n",
    "    rand_y = np.transpose([y_vals[rand_index]])\n",
    "    sess.run(train_step_l1, feed_dict={\n",
    "        x_data:rand_x,\n",
    "        y_target:rand_y\n",
    "    })\n",
    "    sess.run(train_step_l2, feed_dict={\n",
    "        x_data:rand_x,\n",
    "        y_target:rand_y\n",
    "    })\n",
    "    temp_loss_l1 = sess.run(loss_l1, feed_dict={\n",
    "        x_data:rand_x,\n",
    "        y_target: rand_y\n",
    "    })\n",
    "    temp_loss_l2 = sess.run(loss_l2, feed_dict={\n",
    "        x_data:rand_x,\n",
    "        y_target: rand_y\n",
    "    })\n",
    "    loss_vec_l1.append(temp_loss_l1)\n",
    "    loss_vec_l2.append(temp_loss_l2)\n",
    "    if((i + 1) % 25 == 0):\n",
    "        print('Step #' + str(i + 1) + ' A = ' + str(sess.run(A)) + ' b = ' + str(sess.run(b)))"
   ],
   "metadata": {
    "collapsed": false,
    "pycharm": {
     "name": "#%%\n",
     "is_executing": false
    }
   }
  },
  {
   "cell_type": "code",
   "execution_count": null,
   "outputs": [],
   "source": [],
   "metadata": {
    "collapsed": false,
    "pycharm": {
     "name": "#%%\n"
    }
   }
  }
 ],
 "metadata": {
  "language_info": {
   "codemirror_mode": {
    "name": "ipython",
    "version": 2
   },
   "file_extension": ".py",
   "mimetype": "text/x-python",
   "name": "python",
   "nbconvert_exporter": "python",
   "pygments_lexer": "ipython2",
   "version": "2.7.6"
  },
  "kernelspec": {
   "name": "python3",
   "language": "python",
   "display_name": "Python 3"
  },
  "pycharm": {
   "stem_cell": {
    "cell_type": "raw",
    "source": [],
    "metadata": {
     "collapsed": false
    }
   }
  }
 },
 "nbformat": 4,
 "nbformat_minor": 0
}